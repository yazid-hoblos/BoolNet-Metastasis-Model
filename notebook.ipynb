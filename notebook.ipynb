{
 "cells": [
  {
   "cell_type": "code",
   "execution_count": null,
   "id": "9462608a",
   "metadata": {},
   "outputs": [],
   "source": [
    "from metastasisModel import MetastasisModel\n",
    "\n",
    "reduced_model = MetastasisModel(modular=True)"
   ]
  },
  {
   "cell_type": "code",
   "execution_count": 2,
   "id": "b54a9bcd",
   "metadata": {},
   "outputs": [
    {
     "name": "stdout",
     "output_type": "stream",
     "text": [
      "model loaded\n",
      "1018292 strongly connected components\n",
      "436 strongly connected components with more than one node\n"
     ]
    }
   ],
   "source": [
    "import pickle\n",
    "import networkx as nx\n",
    "with open('data_files/reduced_model_state_transition_graph.pkl', 'rb') as f:\n",
    "    model = pickle.load(f)\n",
    "print('model loaded')\n",
    "scc = list(map(frozenset, nx.strongly_connected_components(model)))\n",
    "\n",
    "comps=[]\n",
    "for s in scc:\n",
    "    if len(s) > 1:\n",
    "        # print(s, len(s))\n",
    "        comps.append(s)\n",
    "    # print(s, len(s))\n",
    "    \n",
    "print(len(scc), 'strongly connected components')\n",
    "print(len(comps), 'strongly connected components with more than one node')\n"
   ]
  },
  {
   "cell_type": "code",
   "execution_count": null,
   "id": "d6c7a7c8",
   "metadata": {},
   "outputs": [],
   "source": [
    "reduced_model.necessary(trueset={'Metastasis','Invasion','Migration','EMT'},max_cnf=40000, trace=True) \n",
    "\n",
    "# print(f\"Number of Modules: {len(reduced_model.variables)}\")\n",
    "\n",
    "# reduced_model.draw_interaction_graph('reduced_model', split=True, interactive=True, show=True)\n",
    "# reduced_model.get_stable_states_df(display=True)\n",
    "# reduced_model.identify_active_nodes()\n",
    "\n",
    "# reduced_model.write_stable_states('reduced_model')\n",
    "\n",
    "# reduced_model.plot_stable_states('reduced_model', show=True)\n",
    "\n",
    "# mutated_model = reduced_model.control(frozenfalse={'p53','Ecadh'})\n",
    "# mutated_model.get_stable_states_df(display=True)\n",
    "# mutated_model.write_stable_states('second_mutated_model')\n",
    "\n",
    "# mutated_model.plot_stable_states('second_mutated_model')\n",
    "\n",
    "# reduced_model.controllability_analysis('reduced_model', prevent_duplicates=True, plot=False)\n",
    "\n",
    "# import pickle\n",
    "# with open('model.pkl', 'rb') as f:\n",
    "#     model = pickle.load(f)\n",
    "\n",
    "# def synchronous(variables: list | set) -> frozenset:\n",
    "#     return frozenset({frozenset({*variables})})\n",
    "# eqs=reduced_model.model.equilibria(model=model,trace=True)[1]\n",
    "\n",
    "# for eq in eqs:\n",
    "#     print(eq, len(eq))\n",
    "\n",
    "# with open('eqs.txt', 'w') as f:\n",
    "    # for eq in eqs:\n",
    "        # f.write(f\"{eq}\\n\")"
   ]
  }
 ],
 "metadata": {
  "kernelspec": {
   "display_name": "Python 3",
   "language": "python",
   "name": "python3"
  },
  "language_info": {
   "codemirror_mode": {
    "name": "ipython",
    "version": 3
   },
   "file_extension": ".py",
   "mimetype": "text/x-python",
   "name": "python",
   "nbconvert_exporter": "python",
   "pygments_lexer": "ipython3",
   "version": "3.13.2"
  }
 },
 "nbformat": 4,
 "nbformat_minor": 5
}
